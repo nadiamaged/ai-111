{
  "cells": [
    {
      "cell_type": "markdown",
      "id": "759d04ba",
      "metadata": {
        "id": "759d04ba"
      },
      "source": [
        "**1-Write a Python program to calculate the length of a string using 2 ways"
      ]
    },
    {
      "cell_type": "code",
      "execution_count": 3,
      "id": "e434c950",
      "metadata": {
        "id": "e434c950",
        "outputId": "ee3159c2-7c63-4e25-f757-f38021e56c03",
        "colab": {
          "base_uri": "https://localhost:8080/"
        }
      },
      "outputs": [
        {
          "output_type": "stream",
          "name": "stdout",
          "text": [
            "the length is  2\n"
          ]
        }
      ],
      "source": [
        "#using bulid in functions\n",
        "lngth=len(\"hi\")\n",
        "print(\"the length is \",lngth)"
      ]
    },
    {
      "cell_type": "code",
      "execution_count": null,
      "id": "7a2dfa32",
      "metadata": {
        "id": "7a2dfa32"
      },
      "outputs": [],
      "source": [
        "#making the len fuction from scratch\n",
        "coun=0\n",
        "for i in \"hi\":\n",
        "  coun+=1\n",
        "print(coun)"
      ]
    },
    {
      "cell_type": "markdown",
      "id": "d7cc9da7",
      "metadata": {
        "id": "d7cc9da7"
      },
      "source": [
        "**2-Write a Python program to get a string made of the first 2 and last 2 characters of a given string. If the string length is less than 2, return the empty string instead (\"##Sample String : 'w3resource'\n",
        "Expected Result : 'w3ce'\n",
        "##Sample String : 'w3'\n",
        "Expected Result : 'w3w3'\n",
        "##Sample String : ' w'\n",
        "Expected Result : Empty String)"
      ]
    },
    {
      "cell_type": "code",
      "execution_count": null,
      "id": "dafa9dd8",
      "metadata": {
        "id": "dafa9dd8"
      },
      "outputs": [],
      "source": [
        "input_str=input(\"enter the string\")\n",
        "if len(input_str)<2:\n",
        "  print(\"empty string\")\n",
        "\n",
        "else:\n",
        "  print(input_str[:2]+input_str[-2:])"
      ]
    },
    {
      "cell_type": "markdown",
      "id": "1534f956",
      "metadata": {
        "id": "1534f956"
      },
      "source": [
        "**3-Write a Python program to add 'ing' at the end of a given string (length should be at least 3). If the given string already ends with 'ing', add 'ly' instead. If the string length of the given string is less than 3, leave it unchanged. (Sample String : 'abc'\n",
        "Expected Result : 'abcing')"
      ]
    },
    {
      "cell_type": "code",
      "execution_count": null,
      "id": "7ff8cec4",
      "metadata": {
        "id": "7ff8cec4"
      },
      "outputs": [],
      "source": [
        "input_str=input(\"enter the string\")\n",
        "if len(input_str)<3:\n",
        "  print(input_str)\n",
        "elif input_str[-3:]==\"ing\":\n",
        "  print(input_str+\"ly\")\n",
        "else:\n",
        "  print(input_str+\"ing\")"
      ]
    },
    {
      "cell_type": "markdown",
      "id": "1c0a6627",
      "metadata": {
        "id": "1c0a6627"
      },
      "source": [
        "**4-Write a Python function that takes a list of words and return the longest word and the length of the longest one\n",
        "(Longest word: Exercises\n",
        "Length of the longest word: 9)"
      ]
    },
    {
      "cell_type": "code",
      "execution_count": 4,
      "id": "397341d9",
      "metadata": {
        "id": "397341d9",
        "outputId": "f1b339f2-49c9-44ff-cad9-1b1e581b858e",
        "colab": {
          "base_uri": "https://localhost:8080/"
        }
      },
      "outputs": [
        {
          "output_type": "stream",
          "name": "stdout",
          "text": [
            "Longest word: programimg\n",
            "Length of the longest word: 10\n"
          ]
        }
      ],
      "source": [
        "def longest_word(list_of_words):\n",
        "  max_len=0\n",
        "  max_word=\"\"\n",
        "  for word in list_of_words:\n",
        "    if len(word)>max_len:\n",
        "      max_len=len(word)\n",
        "      max_word=word\n",
        "  return max_word,max_len\n",
        "words_list = [\"Python\", \"programimg\"]\n",
        "\n",
        "#try function\n",
        "longest_word, length = longest_word(words_list)\n",
        "\n",
        "print(\"Longest word:\", longest_word)\n",
        "print(\"Length of the longest word:\", length)"
      ]
    },
    {
      "cell_type": "markdown",
      "id": "53a03a6a",
      "metadata": {
        "id": "53a03a6a"
      },
      "source": [
        "**5-Write a Python program to change a given string to a newly string where the first and last chars have been exchanged using 2 ways (Sample String:abca  Expected Result:ebce)"
      ]
    },
    {
      "cell_type": "code",
      "execution_count": null,
      "id": "fd327d2a",
      "metadata": {
        "id": "fd327d2a"
      },
      "outputs": [],
      "source": [
        "input_str=input(\"enter the string\")\n",
        "if len(input_str)<2:\n",
        "  print(input_str)\n",
        "else:\n",
        "  print(input_str[-1]+input_str[1:-1]+input_str[0])"
      ]
    },
    {
      "cell_type": "code",
      "execution_count": null,
      "id": "285788b4",
      "metadata": {
        "id": "285788b4"
      },
      "outputs": [],
      "source": [
        "input_str=input(\"enter the string\")\n",
        "if len(input_str)<2:\n",
        "  print(input_str)\n",
        "else:\n",
        "  char_list=list(input_str)\n",
        "  char_list[0],char_list[-1]=char_list[-1],char_list[0]\n",
        "  print(\"\".join(char_list))"
      ]
    },
    {
      "cell_type": "markdown",
      "id": "25f89808",
      "metadata": {
        "id": "25f89808"
      },
      "source": [
        "**6-Write a Python program to remove characters that have odd index values in a given string (Sample String:abca Expected Result:ac)"
      ]
    },
    {
      "cell_type": "code",
      "execution_count": 5,
      "id": "05959bd7",
      "metadata": {
        "id": "05959bd7",
        "outputId": "1fa81e1b-c492-496f-e0f9-c33884cb8121",
        "colab": {
          "base_uri": "https://localhost:8080/"
        }
      },
      "outputs": [
        {
          "output_type": "stream",
          "name": "stdout",
          "text": [
            "enter the stringabca\n",
            "Expected Result: ac\n"
          ]
        }
      ],
      "source": [
        "input_str=input(\"enter the string\")\n",
        "# removing   odd\n",
        "result = input_str[::2]\n",
        "\n",
        "print(\"Expected Result:\", result)"
      ]
    },
    {
      "cell_type": "markdown",
      "id": "eb16e898",
      "metadata": {
        "id": "eb16e898"
      },
      "source": [
        "**7. You have a list of your favourite marvel super heros.\n",
        "```\n",
        "heros=['spider man','thor','hulk','iron man','captain america']\n",
        "```\n",
        "\n",
        "Using this find out,\n",
        "\n",
        "    1. Length of the list\n",
        "    2. Add 'black panther' at the end of this list\n",
        "    3. You realize that you need to add 'black panther' after 'hulk',\n",
        "       so remove it from the list first and then add it after 'hulk'\n",
        "    4. Now you don't like thor and hulk because they get angry easily :)\n",
        "       So you want to remove thor and hulk from list and replace them with doctor strange (because he is cool).\n",
        "       Do that with one line of code.\n",
        "    5. Sort the heros list in alphabetical order (Hint. Use dir() functions to list down all functions available in list)"
      ]
    },
    {
      "cell_type": "code",
      "execution_count": null,
      "id": "01ce6cf5",
      "metadata": {
        "id": "01ce6cf5"
      },
      "outputs": [],
      "source": [
        "heros=['spider man','thor','hulk','iron man','captain america']\n",
        "#1\n",
        "list_len=len(heros)\n",
        "print(\"length of the list is \",list_len)\n",
        "\n",
        "#2\n",
        "heros.append(\"black panther\")\n",
        "print(heros)\n",
        "\n",
        "#3\n",
        "heros.remove(\"black panther\")\n",
        "index=heros.index(\"hulk\")\n",
        "heros.insert(index+1,\"black panther\")\n",
        "print(heros)\n",
        "#4\n",
        "heros = ['doctor strange' if hero in ['thor', 'hulk'] else hero for hero in heros]\n",
        "print(heros)\n",
        "\n",
        "#5\n",
        "heros.sort()\n",
        "print(heros)"
      ]
    },
    {
      "cell_type": "markdown",
      "id": "4e8125f1",
      "metadata": {
        "id": "4e8125f1"
      },
      "source": [
        "**8-Write a Python script that takes input from the user and displays that input back in upper and lower cases"
      ]
    },
    {
      "cell_type": "code",
      "execution_count": null,
      "id": "66c8f778",
      "metadata": {
        "id": "66c8f778"
      },
      "outputs": [],
      "source": [
        "input_str=input(\"enter the string\")\n",
        "print(\"upper case is \",input_str.upper())\n",
        "print(\"lower case is \",input_str.lower())"
      ]
    },
    {
      "cell_type": "markdown",
      "id": "fcd68aa1",
      "metadata": {
        "id": "fcd68aa1"
      },
      "source": [
        "**9-Write a Python function to reverse a string if its length is a multiple of 4"
      ]
    },
    {
      "cell_type": "code",
      "execution_count": null,
      "id": "0671a931",
      "metadata": {
        "id": "0671a931"
      },
      "outputs": [],
      "source": [
        "def reverse_string(input_str):\n",
        "  if len(input_str)%4==0:\n",
        "    return input_str[::-1]\n",
        "  else:\n",
        "    return input_str\n",
        "input_str=input(\"enter the string\")\n",
        "print(reverse_string(input_str))"
      ]
    },
    {
      "cell_type": "markdown",
      "id": "b577c68d",
      "metadata": {
        "id": "b577c68d"
      },
      "source": [
        "**10- Write a Python program to remove a newline in Python"
      ]
    },
    {
      "cell_type": "code",
      "execution_count": null,
      "id": "e0c6525a",
      "metadata": {
        "id": "e0c6525a"
      },
      "outputs": [],
      "source": [
        "input_str=input(\"enter the string\")\n",
        "cleaned_string = input_str.strip()\n",
        "print(\"String without newline:\", cleaned_string)"
      ]
    },
    {
      "cell_type": "markdown",
      "id": "593a68db",
      "metadata": {
        "id": "593a68db"
      },
      "source": [
        "**11- Write a Python program to add prefix text to all of the lines in a string"
      ]
    },
    {
      "cell_type": "code",
      "source": [
        "def add_prefix(input_str,prefix):\n",
        "  return \"\\some_dir\".join([prefix + line for line in input_str.splitlines()])\n",
        "\n",
        "input_str=input(\"enter the string\")\n",
        "prefix=input(\"enter the prefix\")\n",
        "print(add_prefix(input_str,prefix))"
      ],
      "metadata": {
        "id": "kvV3cZcNbeht"
      },
      "id": "kvV3cZcNbeht",
      "execution_count": null,
      "outputs": []
    },
    {
      "cell_type": "markdown",
      "id": "86fa1543",
      "metadata": {
        "id": "86fa1543"
      },
      "source": [
        "**12-Write a Python program to print the following numbers up to 2 decimal places\n",
        "\n",
        "ex:\n",
        "Original Number:  3.1415926                                                                                   \n",
        "Formatted Number: 3.14                                                                                        \n",
        "Original Number:  12.9999                                                                                     \n",
        "Formatted Number: 13.00  \n"
      ]
    },
    {
      "cell_type": "code",
      "execution_count": null,
      "id": "cd4a9d89",
      "metadata": {
        "id": "cd4a9d89"
      },
      "outputs": [],
      "source": [
        "def format_float(number):\n",
        "    return f\"{number:.2f}\"\n",
        "\n",
        "orig_number = 3.1415926\n",
        "formatted_number = format_float(orig_number)\n",
        "\n",
        "print(\"Original Number:\", orig_number)\n",
        "print(\"Formatted Number:\", formatted_number)"
      ]
    },
    {
      "cell_type": "markdown",
      "id": "452c0ab0",
      "metadata": {
        "id": "452c0ab0"
      },
      "source": [
        "**13-Write a Python program to print the following numbers up to 2 decimal places with a sign"
      ]
    },
    {
      "cell_type": "code",
      "execution_count": null,
      "id": "73e82479",
      "metadata": {
        "id": "73e82479"
      },
      "outputs": [],
      "source": [
        "def decmial_with_sign(number):\n",
        "    return f\"{number:.2f}\"\n",
        "\n",
        "orig_number = 3.1415926\n",
        "formatted_number = decmial_with_sign(orig_number)\n",
        "\n",
        "print(\"Original Number:\", orig_number)\n",
        "print(\"Formatted Number:\", formatted_number)"
      ]
    },
    {
      "cell_type": "markdown",
      "id": "32b1811a",
      "metadata": {
        "id": "32b1811a"
      },
      "source": [
        "**14-Write a Python program to display a number with a comma separator"
      ]
    },
    {
      "cell_type": "code",
      "execution_count": null,
      "id": "f30fc0b6",
      "metadata": {
        "id": "f30fc0b6"
      },
      "outputs": [],
      "source": [
        "def with_comma(number):\n",
        "    return f\"{number:,}\"\n",
        "\n",
        "orig_number = 123456789\n",
        "formatted_number = with_comma(orig_number)\n",
        "\n",
        "print(\"Original Number:\", orig_number)\n",
        "print(\"Formatted Number:\", formatted_number)"
      ]
    },
    {
      "cell_type": "markdown",
      "id": "0477f487",
      "metadata": {
        "id": "0477f487"
      },
      "source": [
        "**15-Write a Python program to reverse a string using 2 ways"
      ]
    },
    {
      "cell_type": "code",
      "execution_count": null,
      "id": "aa8beec8",
      "metadata": {
        "id": "aa8beec8"
      },
      "outputs": [],
      "source": [
        "#1\n",
        "def reverse_string_meth1(input_str):\n",
        "  return input_str[::-1]\n",
        "input_str=input(\"enter the string\")\n",
        "print(reverse_string_meth1(input_str))\n",
        "\n",
        "#2\n",
        "def reverse_string_meth2(input_str):\n",
        "    reversed_str = ''\n",
        "    for char in input_str:\n",
        "        reversed_str = char + reversed_str\n",
        "    return reversed_str\n",
        "input_str=input(\"enter the string\")\n",
        "print(reverse_string_meth2(input_str))"
      ]
    },
    {
      "cell_type": "markdown",
      "id": "3adf5669",
      "metadata": {
        "id": "3adf5669"
      },
      "source": [
        "**16-Write a Python program to remove spaces from a given string"
      ]
    },
    {
      "cell_type": "code",
      "execution_count": null,
      "id": "b4f22602",
      "metadata": {
        "id": "b4f22602"
      },
      "outputs": [],
      "source": [
        "def remove_spaces(input_str):\n",
        "    return input_str.replace(\" \", \"\")\n",
        "\n",
        "input_str=input(\"enter the string\")\n",
        "print(remove_spaces(input_str))\n"
      ]
    },
    {
      "cell_type": "markdown",
      "id": "509998e2",
      "metadata": {
        "id": "509998e2"
      },
      "source": [
        "**17-write a Python program to swap first and last element of any list."
      ]
    },
    {
      "cell_type": "code",
      "execution_count": null,
      "id": "68692d7f",
      "metadata": {
        "id": "68692d7f"
      },
      "outputs": [],
      "source": [
        "def swap_first_last(input_list):\n",
        "    if len(input_list) >= 2:\n",
        "        input_list[0], input_list[-1] = input_list[-1], input_list[0]\n",
        "        return input_list\n",
        "\n",
        "input_list = [1, 2, 3, 4, 5]\n",
        "print(swap_first_last(input_list))"
      ]
    },
    {
      "cell_type": "markdown",
      "id": "959e0837",
      "metadata": {
        "id": "959e0837"
      },
      "source": [
        "**18-Given a list in Python and provided the positions of the elements, write a program to swap the two elements in the list. (Input : List = [23, 65, 19, 90], pos1 = 1, pos2 = 3\n",
        "Output : [19, 65, 23, 90])"
      ]
    },
    {
      "cell_type": "code",
      "execution_count": null,
      "id": "225d8c6d",
      "metadata": {
        "id": "225d8c6d"
      },
      "outputs": [],
      "source": [
        "def swap_elements(input_list, pos1, pos2):\n",
        "    if 0 <= pos1 < len(input_list) and 0 <= pos2 < len(input_list):\n",
        "        input_list[pos1], input_list[pos2] = input_list[pos2], input_list[pos1]\n",
        "        return input_list\n",
        "    else:\n",
        "        return \"Invalid positions\"\n",
        "\n",
        "input_list = [23, 65, 19, 90]\n",
        "pos1 = 1\n",
        "pos2 = 3\n",
        "print(swap_elements(input_list, pos1, pos2))"
      ]
    },
    {
      "cell_type": "markdown",
      "id": "66fc6682",
      "metadata": {
        "id": "66fc6682"
      },
      "source": [
        "**19- search for the all ways to know the length of the list"
      ]
    },
    {
      "cell_type": "code",
      "execution_count": null,
      "id": "SXxZeSP45yDo",
      "metadata": {
        "id": "SXxZeSP45yDo"
      },
      "outputs": [],
      "source": [
        "#1\n",
        "def list_length(input_list):\n",
        "    return len(input_list)\n",
        "\n",
        "input_list = [1, 2, 3, 4, 5]\n",
        "print(list_length(input_list))\n",
        "#2\n",
        "def list_length(input_list):\n",
        "    count = 0\n",
        "    for _ in input_list:\n",
        "        count += 1\n",
        "    return count"
      ]
    },
    {
      "cell_type": "markdown",
      "id": "19hrUOPJ5rmq",
      "metadata": {
        "id": "19hrUOPJ5rmq"
      },
      "source": [
        "**20-write a Python code to find the Maximum number of list of numbers."
      ]
    },
    {
      "cell_type": "code",
      "execution_count": null,
      "id": "1a89b9d3",
      "metadata": {
        "id": "1a89b9d3"
      },
      "outputs": [],
      "source": [
        "def find_max(input_list):\n",
        "    if not input_list:\n",
        "        return None\n",
        "    max_num = input_list[0]\n",
        "    for num in input_list:\n",
        "        if num > max_num:\n",
        "            max_num = num\n",
        "    return max_num\n",
        "\n",
        "input_list = [5, 2, 9, 1, 7]\n",
        "print(find_max(input_list))"
      ]
    },
    {
      "cell_type": "markdown",
      "id": "tdz5uTRQ50aA",
      "metadata": {
        "id": "tdz5uTRQ50aA"
      },
      "source": [
        "**21-write a Python code to find the Minimum number of list of numbers."
      ]
    },
    {
      "cell_type": "code",
      "execution_count": null,
      "id": "21f8cbd6",
      "metadata": {
        "id": "21f8cbd6"
      },
      "outputs": [],
      "source": [
        "def find_min(input_list):\n",
        "    if not input_list:\n",
        "        return None\n",
        "    min_num = input_list[0]\n",
        "    for num in input_list:\n",
        "        if num < min_num:\n",
        "            min_num = num\n",
        "    return min_num\n",
        "\n",
        "input_list = [5, 2, 9, 1, 7]\n",
        "print(find_min(input_list))"
      ]
    },
    {
      "cell_type": "markdown",
      "id": "96822d96",
      "metadata": {
        "id": "96822d96"
      },
      "source": [
        "**22-search for if an elem is existing in list"
      ]
    },
    {
      "cell_type": "code",
      "execution_count": null,
      "id": "51ca5c9a",
      "metadata": {
        "id": "51ca5c9a"
      },
      "outputs": [],
      "source": [
        "def element_exists(input_list, element):\n",
        "    return element in input_list\n",
        "\n",
        "input_list = [1, 2, 3, 4, 5]\n",
        "element = 3\n",
        "print(element_exists(input_list, element))"
      ]
    },
    {
      "cell_type": "markdown",
      "id": "d9557da7",
      "metadata": {
        "id": "d9557da7"
      },
      "source": [
        "**23- clear python list using different ways"
      ]
    },
    {
      "cell_type": "code",
      "execution_count": null,
      "id": "b69858a3",
      "metadata": {
        "id": "b69858a3"
      },
      "outputs": [],
      "source": [
        "#1\n",
        "def clear_list(input_list):\n",
        "    input_list.clear()\n",
        "    return input_list\n",
        "\n",
        "input_list = [1, 2, 3, 4, 5]\n",
        "print(clear_list(input_list))\n",
        "#2\n",
        "def clear_list(input_list):\n",
        "    del input_list[:]\n",
        "    return input_list\n",
        "\n",
        "input_list = [1, 2, 3, 4, 5]\n",
        "print(clear_list(input_list))"
      ]
    },
    {
      "cell_type": "markdown",
      "id": "52160e88",
      "metadata": {
        "id": "52160e88"
      },
      "source": [
        "**24-remove duplicated elements from a list"
      ]
    },
    {
      "cell_type": "code",
      "execution_count": null,
      "id": "5e362228",
      "metadata": {
        "id": "5e362228"
      },
      "outputs": [],
      "source": [
        "def remove_dupli(input_list):\n",
        "    unique_list = []\n",
        "    for element in input_list:\n",
        "        if element not in unique_list:\n",
        "            unique_list.append(element)\n",
        "    return unique_list\n",
        "\n",
        "input_list = [1, 2, 2, 3, 4, 4, 5]\n",
        "print(remove_dupli(input_list))"
      ]
    },
    {
      "cell_type": "markdown",
      "id": "c26b6e9f",
      "metadata": {
        "id": "c26b6e9f"
      },
      "source": [
        "**25-write a python program to count unique values inside a list using different ways"
      ]
    },
    {
      "cell_type": "code",
      "execution_count": null,
      "id": "72132667",
      "metadata": {
        "id": "72132667"
      },
      "outputs": [],
      "source": [
        "def count_unique(input_list):\n",
        "    unique_set = set()\n",
        "    for element in input_list:\n",
        "        unique_set.add(element)\n",
        "    return len(unique_set)\n",
        "\n",
        "input_list = [1, 2, 2, 3, 4, 4, 5]\n",
        "print(count_unique(input_list))"
      ]
    },
    {
      "cell_type": "markdown",
      "id": "fed6677c",
      "metadata": {
        "id": "fed6677c"
      },
      "source": [
        "**26-write a python program Extract all elements with Frequency greater than K (Input : test_list = [4, 6, 4, 3, 3, 4, 3, 4, 3, 8], K = 3\n",
        "Output : [4, 3] )"
      ]
    },
    {
      "cell_type": "code",
      "execution_count": null,
      "id": "d81f3f9d",
      "metadata": {
        "id": "d81f3f9d"
      },
      "outputs": [],
      "source": [
        "from collections import Counter\n",
        "\n",
        "def frequency_greater_than_k(test_list, k):\n",
        "    count_dict = Counter(test_list)\n",
        "    return [num for num, freq in count_dict.items() if freq > k]\n",
        "\n",
        "test_list = [4, 6, 4, 3, 3, 4, 3, 4, 3, 8]\n",
        "k = 3\n",
        "print(frequency_greater_than_k(test_list, k))"
      ]
    },
    {
      "cell_type": "markdown",
      "id": "caca5224",
      "metadata": {
        "id": "caca5224"
      },
      "source": [
        "**27-write a python program to find the Strongest Neighbour (Input: 1 2 2 3 4 5\n",
        "Output:  5)"
      ]
    },
    {
      "cell_type": "code",
      "execution_count": null,
      "id": "39fbd9b2",
      "metadata": {
        "id": "39fbd9b2"
      },
      "outputs": [],
      "source": [
        "def find_strongest_neighbour(input_list):\n",
        "    if len(input_list) < 3:\n",
        "        return None\n",
        "    strong=None\n",
        "    for i in range(1,len(input_list)-1):\n",
        "      if input_list[i]>input_list[i-1] and input_list[i]>input_list[i+1]:\n",
        "        strong=input_list[i]\n",
        "\n",
        "    return strong\n",
        "input_list = [1, 2, 2, 3, 4, 5]\n",
        "print(find_strongest_neighbour(input_list))\n",
        ""
      ]
    },
    {
      "cell_type": "markdown",
      "id": "a9fa8baf",
      "metadata": {
        "id": "a9fa8baf"
      },
      "source": [
        "**28-write a Python Program to print all Possible Combinations from the three Digits (Input: [1, 2, 3]\n",
        "Output:\n",
        "1 2 3 ##\n",
        "1 3 2 ##\n",
        "2 1 3 ##\n",
        "2 3 1 ##\n",
        "3 1 2 ##\n",
        "3 2 1)"
      ]
    },
    {
      "cell_type": "code",
      "execution_count": 7,
      "id": "8c520a76",
      "metadata": {
        "id": "8c520a76",
        "outputId": "f89646ae-05d4-431a-c53c-d1e130824ff6",
        "colab": {
          "base_uri": "https://localhost:8080/"
        }
      },
      "outputs": [
        {
          "output_type": "stream",
          "name": "stdout",
          "text": [
            "1 2 3\n",
            "1 3 2\n",
            "2 1 3\n",
            "2 3 1\n",
            "3 1 2\n",
            "3 2 1\n"
          ]
        }
      ],
      "source": [
        "from itertools import permutations\n",
        "def combinations(input_list):\n",
        "\n",
        "    perms = permutations(input_list)\n",
        "\n",
        "    for perm in perms:\n",
        "        print(\" \".join(map(str, perm)))\n",
        "\n",
        "input_list = [1, 2, 3]\n",
        "combinations(input_list)"
      ]
    },
    {
      "cell_type": "markdown",
      "id": "5288bb89",
      "metadata": {
        "id": "5288bb89"
      },
      "source": [
        "**29-write a Python program to find all the Combinations in the list with the given condition (Input: test_list = [1,2,3]\n",
        "Output:\n",
        " [1], [1, 2], [1, 2, 3], [1, 3]\n",
        " [2], [2, 3], [3])"
      ]
    },
    {
      "cell_type": "code",
      "execution_count": null,
      "id": "59b89646",
      "metadata": {
        "id": "59b89646"
      },
      "outputs": [],
      "source": [
        "from itertools import combinations\n",
        "def find_all_combinations(input_list):\n",
        "    combinations_list = []\n",
        "    for r in range(1, len(input_list) + 1):\n",
        "        for comb in combinations(input_list, r):\n",
        "            combinations_list.append(list(comb))\n",
        "\n",
        "    return combinations_list\n",
        "\n",
        "test_list = [1, 2, 3]\n",
        "print(find_all_combinations(test_list))"
      ]
    },
    {
      "cell_type": "markdown",
      "id": "39973705",
      "metadata": {
        "id": "39973705"
      },
      "source": [
        "**30-write a Python program to get all unique combinations of two Lists (List_1 = [\"a\",\"b\"]\n",
        "List_2 = [1,2]\n",
        "Unique_combination = [[('a',1),('b',2)],[('a',2),('b',1)]] )"
      ]
    },
    {
      "cell_type": "code",
      "execution_count": null,
      "id": "8c4ba22b",
      "metadata": {
        "id": "8c4ba22b"
      },
      "outputs": [],
      "source": [
        "from itertools import product,permutations\n",
        "def unique_combin(list1,list2):\n",
        "  pairs=list(product(list1,list2))\n",
        "  unique_pairs=set()\n",
        "  for pair in pairs:\n",
        "    unique_pairs.add(tuple(sorted(pair)))\n",
        "  return list(unique_pairs)\n",
        "\n",
        "list1 = [\"a\",\"b\"]\n",
        "list2 = [1,2]\n",
        "print(unique_combin(list1,list2))"
      ]
    },
    {
      "cell_type": "markdown",
      "id": "255fd554",
      "metadata": {
        "id": "255fd554"
      },
      "source": [
        "**31- Write a Python program that finds all pairs of elements in a list whose sum is equal to a given value."
      ]
    },
    {
      "cell_type": "code",
      "execution_count": null,
      "id": "c2d94e1f",
      "metadata": {
        "id": "c2d94e1f"
      },
      "outputs": [],
      "source": [
        "def find_pairs(input_list, target_sum):\n",
        "    pairs = []\n",
        "    for i in range(len(input_list)):\n",
        "        for j in range(i + 1, len(input_list)):\n",
        "            if input_list[i] + input_list[j] == target_sum:\n",
        "                pairs.append((input_list[i], input_list[j]))\n",
        "    return pairs\n",
        "\n",
        "input_list = [1, 2, 3, 4, 5]\n",
        "target_sum = 6\n",
        "print(find_pairs(input_list, target_sum))"
      ]
    },
    {
      "cell_type": "markdown",
      "id": "-74fqJe7BnOk",
      "metadata": {
        "id": "-74fqJe7BnOk"
      },
      "source": [
        "**32- I have a string variable called s='maine 200 banana khaye'. This of course is a wrong statement, the correct statement is 'maine 10 samosa khaye'. Replace incorrect words in original strong with new ones and print the new string. Also try to do this in one line."
      ]
    },
    {
      "cell_type": "code",
      "execution_count": null,
      "id": "OG2czwLvBzQy",
      "metadata": {
        "id": "OG2czwLvBzQy"
      },
      "outputs": [],
      "source": [
        "s='maine 200 banana khaye'\n",
        "s = s.replace('200', '10').replace('banana', 'samosa')\n",
        "print(s)"
      ]
    },
    {
      "cell_type": "markdown",
      "id": "RXUy-aQmB7UP",
      "metadata": {
        "id": "RXUy-aQmB7UP"
      },
      "source": [
        "**33.  You have a list of your favourite marvel super heros.\n",
        "```\n",
        "heros=['spider man','thor','hulk','iron man','captain america']\n",
        "```\n",
        "\n",
        "Using this find out,\n",
        "\n",
        "    1. Length of the list\n",
        "    2. Add 'black panther' at the end of this list\n",
        "    3. You realize that you need to add 'black panther' after 'hulk',\n",
        "       so remove it from the list first and then add it after 'hulk'\n",
        "    4. Now you don't like thor and hulk because they get angry easily :)\n",
        "       So you want to remove thor and hulk from list and replace them with doctor strange (because he is cool).\n",
        "       Do that with one line of code.\n",
        "    5. Sort the heros list in alphabetical order (Hint. Use dir() functions to list down all functions available in list)"
      ]
    },
    {
      "cell_type": "code",
      "execution_count": null,
      "id": "7QBxB-9eB9U5",
      "metadata": {
        "id": "7QBxB-9eB9U5"
      },
      "outputs": [],
      "source": [
        "heros=['spider man','thor','hulk','iron man','captain america']\n",
        "#1\n",
        "list_len=len(heros)\n",
        "print(\"length of the list is \",list_len)\n",
        "\n",
        "#2\n",
        "heros.append(\"black panther\")\n",
        "print(heros)\n",
        "\n",
        "#3\n",
        "if 'black panther' in heros:\n",
        "    heros.remove('black panther')\n",
        "# Find the index of 'hulk' and insert 'black panther' after it\n",
        "hulk_index = heros.index('hulk')\n",
        "heros.insert(hulk_index + 1, 'black panther')\n",
        "print(\"After adding 'black panther' after 'hulk':\", heros)\n",
        "#4\n",
        "heros = ['doctor strange' if hero in ['thor', 'hulk'] else hero for hero in heros]\n",
        "print(heros)\n",
        "\n",
        "#5\n",
        "heros.sort()\n",
        "print(heros)\n"
      ]
    }
  ],
  "metadata": {
    "colab": {
      "provenance": []
    },
    "kernelspec": {
      "display_name": "Python 3 (ipykernel)",
      "language": "python",
      "name": "python3"
    },
    "language_info": {
      "codemirror_mode": {
        "name": "ipython",
        "version": 3
      },
      "file_extension": ".py",
      "mimetype": "text/x-python",
      "name": "python",
      "nbconvert_exporter": "python",
      "pygments_lexer": "ipython3",
      "version": "3.9.13"
    }
  },
  "nbformat": 4,
  "nbformat_minor": 5
}